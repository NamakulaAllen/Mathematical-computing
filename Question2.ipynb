{
 "cells": [
  {
   "cell_type": "code",
   "execution_count": 1,
   "metadata": {},
   "outputs": [],
   "source": [
    "import numpy as np"
   ]
  },
  {
   "cell_type": "code",
   "execution_count": 7,
   "metadata": {},
   "outputs": [],
   "source": [
    "from numpy import transpose"
   ]
  },
  {
   "cell_type": "code",
   "execution_count": 9,
   "metadata": {},
   "outputs": [],
   "source": [
    "#Matrix\n",
    "x = np.array([[1, 0.2, 0.5], [0.2, 1, 0.8], [0.5, 0.8, 1]])"
   ]
  },
  {
   "cell_type": "code",
   "execution_count": 10,
   "metadata": {},
   "outputs": [
    {
     "name": "stdout",
     "output_type": "stream",
     "text": [
      "Inversion of x = [[ 1.56521739  0.86956522 -1.47826087]\n",
      " [ 0.86956522  3.26086957 -3.04347826]\n",
      " [-1.47826087 -3.04347826  4.17391304]]\n"
     ]
    }
   ],
   "source": [
    "#Inversion\n",
    "inverse = np.linalg.inv(x)\n",
    "print(f'Inversion of x = {inverse}')\n"
   ]
  },
  {
   "cell_type": "code",
   "execution_count": 15,
   "metadata": {},
   "outputs": [
    {
     "name": "stdout",
     "output_type": "stream",
     "text": [
      "Transpose of x = [[1.  0.2 0.5]\n",
      " [0.2 1.  0.8]\n",
      " [0.5 0.8 1. ]]\n"
     ]
    }
   ],
   "source": [
    "# Transpose\n",
    "transpose=np.transpose(x)\n",
    "print(f'Transpose of x = {transpose}')"
   ]
  },
  {
   "cell_type": "code",
   "execution_count": 16,
   "metadata": {},
   "outputs": [
    {
     "name": "stdout",
     "output_type": "stream",
     "text": [
      "Determinant of x = 0.2299999999999999\n"
     ]
    }
   ],
   "source": [
    "#Determinant\n",
    "determinant = np.linalg.det(x)\n",
    "print(f'Determinant of x = {determinant}')"
   ]
  },
  {
   "cell_type": "code",
   "execution_count": 17,
   "metadata": {},
   "outputs": [
    {
     "name": "stdout",
     "output_type": "stream",
     "text": [
      "Decomposition = [2.04100779 0.82188052 0.13711169]\n",
      "Decomposition = [[-0.43721717 -0.85359707 -0.28321933]\n",
      " [-0.59931898  0.51133314 -0.61591816]\n",
      " [-0.67056536  0.09955128  0.73514055]]\n"
     ]
    }
   ],
   "source": [
    "#Decomposition\n",
    "values, vectors = np.linalg.eig(x)\n",
    "print(f'Decomposition = {values}')\n",
    "print(f'Decomposition = {vectors}')\n"
   ]
  }
 ],
 "metadata": {
  "kernelspec": {
   "display_name": "Python 3",
   "language": "python",
   "name": "python3"
  },
  "language_info": {
   "codemirror_mode": {
    "name": "ipython",
    "version": 3
   },
   "file_extension": ".py",
   "mimetype": "text/x-python",
   "name": "python",
   "nbconvert_exporter": "python",
   "pygments_lexer": "ipython3",
   "version": "3.11.6"
  },
  "orig_nbformat": 4
 },
 "nbformat": 4,
 "nbformat_minor": 2
}
